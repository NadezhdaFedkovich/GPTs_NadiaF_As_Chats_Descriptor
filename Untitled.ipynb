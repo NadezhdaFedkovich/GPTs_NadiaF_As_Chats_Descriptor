{
 "cells": [
  {
   "cell_type": "code",
   "execution_count": 1,
   "id": "3664d88f-782d-43ab-b88b-cfd09b50e15b",
   "metadata": {},
   "outputs": [],
   "source": [
    "# app.py\n",
    "\n",
    "from flask import Flask, request, jsonify\n",
    "import mysql.connector\n",
    "from config import DB_CONFIG\n",
    "\n",
    "app = Flask(__name__)\n",
    "\n",
    "@app.route('/messages', methods=['GET'])\n",
    "def get_messages_by_chat():\n",
    "    chat_id = request.args.get('chat_id')\n",
    "\n",
    "    if not chat_id:\n",
    "        return jsonify({'error': 'chat_id is required'}), 400\n",
    "\n",
    "    try:\n",
    "        conn = mysql.connector.connect(**DB_CONFIG)\n",
    "        cursor = conn.cursor(dictionary=True)\n",
    "        cursor.execute(\"SELECT * FROM astrologer_messages am WHERE chat_id = %s\", (chat_id,))\n",
    "        messages = cursor.fetchall()\n",
    "        cursor.close()\n",
    "        conn.close()\n",
    "        return jsonify(messages)\n",
    "    except mysql.connector.Error as err:\n",
    "        return jsonify({'error': str(err)}), 500\n"
   ]
  },
  {
   "cell_type": "code",
   "execution_count": null,
   "id": "e64cd577-28e3-4da4-9074-a85da991bd36",
   "metadata": {},
   "outputs": [],
   "source": []
  },
  {
   "cell_type": "code",
   "execution_count": null,
   "id": "769f88cf-b91e-4cc4-988a-36128e040beb",
   "metadata": {},
   "outputs": [],
   "source": [
    "[Unit]\n",
    "Description=Astrologer Messages Flask API\n",
    "After=network.target\n",
    "\n",
    "[Service]\n",
    "User=nadya_f\n",
    "Group=nadya_f\n",
    "WorkingDirectory=/home/nadya_f/Dev/jupyter_projects/AI_AS/GPTs_NadiaF_As_Chats_Descriptor\n",
    "ExecStart=/usr/bin/gunicorn -w 4 -b 0.0.0.0:5000 app:app\n",
    "Restart=always\n",
    "\n",
    "[Install]\n",
    "WantedBy=multi-user.target\n"
   ]
  }
 ],
 "metadata": {
  "kernelspec": {
   "display_name": "Python 3 (ipykernel)",
   "language": "python",
   "name": "python3"
  },
  "language_info": {
   "codemirror_mode": {
    "name": "ipython",
    "version": 3
   },
   "file_extension": ".py",
   "mimetype": "text/x-python",
   "name": "python",
   "nbconvert_exporter": "python",
   "pygments_lexer": "ipython3",
   "version": "3.12.3"
  }
 },
 "nbformat": 4,
 "nbformat_minor": 5
}
